{
 "cells": [
  {
   "cell_type": "code",
   "execution_count": 2,
   "metadata": {},
   "outputs": [],
   "source": [
    "# !pip install requests\n",
    "# !pip install beautifulsoup4"
   ]
  },
  {
   "cell_type": "code",
   "execution_count": 8,
   "metadata": {},
   "outputs": [],
   "source": [
    "from bs4 import BeautifulSoup\n",
    "import os\n",
    "import requests\n",
    "import time\n",
    "\n",
    "DIRECTORY_PATH = './pages_scrape'\n",
    "DIRECTORY_TO_SAVE = './code_scrapped'\n",
    "\n",
    "def get_links_from_file(filename):\n",
    "    with open(filename, 'r', encoding='utf-8') as file:\n",
    "        content = file.read()\n",
    "\n",
    "    soup = BeautifulSoup(content, 'html.parser')\n",
    "    anchors = soup.find_all('a', attrs={'data-testid': 'link-to-search-result'})\n",
    "    \n",
    "    return [anchor['href'] for anchor in anchors]\n",
    "\n",
    "def github_link_to_raw(link):\n",
    "    parts = link.split('/')\n",
    "    username = parts[3]\n",
    "    repository = parts[4]\n",
    "    commit_hash = parts[6]\n",
    "    file_path = '/'.join(parts[7:]).split('#')[0]  # Remove line number part\n",
    "    raw_url = f\"https://raw.githubusercontent.com/{username}/{repository}/{commit_hash}/{file_path}\"\n",
    "    return raw_url\n",
    "\n",
    "def download_and_save(link, directory):\n",
    "    raw_url = github_link_to_raw(link)\n",
    "    response = requests.get(raw_url)\n",
    "    if response.status_code != 200:\n",
    "        print(f\"Failed to download {raw_url}. Status code: {response.status_code}\")\n",
    "        return\n",
    "    \n",
    "    # Ensure directory exists\n",
    "    os.makedirs(directory, exist_ok=True)\n",
    "\n",
    "    # Save the content\n",
    "    filename = os.path.join(directory, raw_url.split('/')[-1])\n",
    "    with open(filename, 'wb') as file:\n",
    "        file.write(response.content)\n",
    "\n",
    "all_links = []\n",
    "\n",
    "for file in os.listdir(DIRECTORY_PATH):\n",
    "    if file.endswith('.html'):\n",
    "        all_links.extend(get_links_from_file(os.path.join(DIRECTORY_PATH, file)))\n",
    "\n",
    "for link in all_links:\n",
    "    download_and_save(link, DIRECTORY_TO_SAVE)\n"
   ]
  },
  {
   "cell_type": "code",
   "execution_count": 10,
   "metadata": {},
   "outputs": [
    {
     "data": {
      "text/plain": [
       "100"
      ]
     },
     "execution_count": 10,
     "metadata": {},
     "output_type": "execute_result"
    }
   ],
   "source": [
    "len(all_links)"
   ]
  },
  {
   "cell_type": "code",
   "execution_count": 14,
   "metadata": {},
   "outputs": [
    {
     "name": "stderr",
     "output_type": "stream",
     "text": [
      "  0%|          | 0/100 [00:00<?, ?it/s]"
     ]
    },
    {
     "name": "stderr",
     "output_type": "stream",
     "text": [
      "100%|██████████| 100/100 [02:44<00:00,  1.64s/it]\n"
     ]
    }
   ],
   "source": [
    "import time\n",
    "from tqdm import tqdm\n",
    "\n",
    "for link in tqdm(all_links):\n",
    "    download_and_save(link, DIRECTORY_TO_SAVE)\n",
    "    time.sleep(1)"
   ]
  },
  {
   "cell_type": "code",
   "execution_count": null,
   "metadata": {},
   "outputs": [],
   "source": []
  }
 ],
 "metadata": {
  "kernelspec": {
   "display_name": "Python 3",
   "language": "python",
   "name": "python3"
  },
  "language_info": {
   "codemirror_mode": {
    "name": "ipython",
    "version": 3
   },
   "file_extension": ".py",
   "mimetype": "text/x-python",
   "name": "python",
   "nbconvert_exporter": "python",
   "pygments_lexer": "ipython3",
   "version": "3.10.8"
  },
  "orig_nbformat": 4
 },
 "nbformat": 4,
 "nbformat_minor": 2
}
