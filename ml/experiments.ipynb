{
 "cells": [
  {
   "cell_type": "code",
   "execution_count": 1,
   "metadata": {},
   "outputs": [
    {
     "name": "stdout",
     "output_type": "stream",
     "text": [
      "['walnut', 'allow', 'elegant', 'raise', 'jungle', 'display', 'door', 'tiger', 'vivid', 'toe', 'knock', 'uncle', 'talent', 'winner', 'math', 'alter', 'suffer', 'evoke', 'wave', 'smart', 'foster', 'civil', 'future', 'bus']\n"
     ]
    }
   ],
   "source": [
    "from multiversx_sdk_wallet import Mnemonic\n",
    "from multiversx_sdk_core import Address\n",
    "from multiversx_sdk_core import AddressFactory\n",
    "\n",
    "mnemonic = Mnemonic.generate()\n",
    "words = mnemonic.get_words()\n",
    "\n",
    "print(words)"
   ]
  },
  {
   "cell_type": "code",
   "execution_count": 11,
   "metadata": {},
   "outputs": [
    {
     "name": "stdout",
     "output_type": "stream",
     "text": [
      "19b9cf83c67a1c21ed313ac4d75e66df71d267a15dcf609f37ca5695ee86bb7f\n",
      "Public key (hex-encoded): 19b9cf83c67a1c21ed313ac4d75e66df71d267a15dcf609f37ca5695ee86bb7f\n"
     ]
    }
   ],
   "source": [
    "secret_key = mnemonic.derive_key(0)\n",
    "public_key = secret_key.generate_public_key()\n",
    "\n",
    "print(secret_key.hex())\n",
    "print(\"Public key (hex-encoded):\", secret_key.hex())"
   ]
  },
  {
   "cell_type": "code",
   "execution_count": 16,
   "metadata": {},
   "outputs": [],
   "source": [
    "factory = AddressFactory(\"erd\")\n",
    "address = factory.create_from_hex(\"19b9cf83c67a1c21ed313ac4d75e66df71d267a15dcf609f37ca5695ee86bb7f\")"
   ]
  },
  {
   "cell_type": "code",
   "execution_count": 9,
   "metadata": {},
   "outputs": [],
   "source": [
    "import os\n",
    "from supabase import create_client, Client\n",
    "from dotenv import load_dotenv\n",
    "\n",
    "load_dotenv()\n",
    "url: str = os.environ.get(\"SUPABASE_URL\")\n",
    "key: str = os.environ.get(\"SUPABASE_KEY\")\n",
    "supabase: Client = create_client(url, key)"
   ]
  },
  {
   "cell_type": "code",
   "execution_count": 11,
   "metadata": {},
   "outputs": [
    {
     "name": "stderr",
     "output_type": "stream",
     "text": [
      "2023-10-05 13:49:10,245:INFO - HTTP Request: POST https://dfdobpmlckedsihyzyov.supabase.co/rest/v1/chatbot_messages \"HTTP/1.1 201 Created\"\n"
     ]
    },
    {
     "name": "stdout",
     "output_type": "stream",
     "text": [
      "data=[{'message_id': 2, 'user_id': '123456789', 'chat_id': 'chat_001', 'text': 'Hello, how can I help you?', 'is_bot': True, 'timestamp': '2023-10-05T08:19:11.06578'}] count=None\n"
     ]
    }
   ],
   "source": [
    "result = supabase.table('chatbot_messages') \\\n",
    "  .insert({\n",
    "    \"user_id\": \"123456789\",\n",
    "    \"chat_id\": \"chat_001\",\n",
    "    \"text\": \"Hello, how can I help you?\",\n",
    "    \"is_bot\": True\n",
    "  }) \\\n",
    "  .execute()\n",
    "print(result)"
   ]
  },
  {
   "cell_type": "markdown",
   "metadata": {},
   "source": [
    "## Code Generation"
   ]
  },
  {
   "cell_type": "code",
   "execution_count": 22,
   "metadata": {},
   "outputs": [
    {
     "data": {
      "text/plain": [
       "True"
      ]
     },
     "execution_count": 22,
     "metadata": {},
     "output_type": "execute_result"
    }
   ],
   "source": [
    "# from git import Repo\n",
    "from langchain.text_splitter import Language\n",
    "from langchain.document_loaders.generic import GenericLoader\n",
    "from langchain.document_loaders.parsers import LanguageParser\n",
    "from dotenv import load_dotenv\n",
    "from langchain.text_splitter import RecursiveCharacterTextSplitter\n",
    "from langchain.vectorstores import Chroma\n",
    "from langchain.embeddings.openai import OpenAIEmbeddings\n",
    "from langchain.chat_models import ChatOpenAI\n",
    "from langchain.memory import ConversationSummaryMemory\n",
    "from langchain.chains import ConversationalRetrievalChain\n",
    "load_dotenv()"
   ]
  },
  {
   "cell_type": "code",
   "execution_count": 33,
   "metadata": {},
   "outputs": [
    {
     "data": {
      "text/plain": [
       "'You can use the `Adder` contract as a basis and modify it to suit your needs. Here\\'s a sample `Multiversx` contract code that initializes a contract holding the number 18 and provides a function `increase` to increase it:\\n\\n```rust\\n#![no_std]\\n\\nmultiversx_sc::imports!();\\n\\n#[multiversx_sc::contract]\\npub trait MyContract {\\n    #[view(getNumber)]\\n    #[storage_mapper(\"number\")]\\n    fn number(&self) -> SingleValueMapper<BigUint>;\\n\\n    #[init]\\n    fn init(&self) {\\n        let initial_value: BigUint = 18.into();\\n        self.number().set(initial_value);\\n    }\\n\\n    /// Increase the stored number by a desired amount.\\n    #[endpoint]\\n    fn increase(&self, value: BigUint) {\\n        self.number().update(|number| *number += value);\\n    }\\n}\\n```\\n\\nIn this contract, the `init` function sets the initial value of the number to 18. The `increase` function, marked with the `#[endpoint]` attribute, is a contract method that anyone can call to increase the stored number by the input value. The `#[view(getNumber)]` attribute on `number` function makes it a view method, which can be used to read the current value of the number.'"
      ]
     },
     "execution_count": 33,
     "metadata": {},
     "output_type": "execute_result"
    }
   ],
   "source": [
    "# Clone\n",
    "repo_path = \"./github-scrapper/code_scrapped\"\n",
    "# Load\n",
    "loader = GenericLoader.from_filesystem(\n",
    "    repo_path,\n",
    "    glob=\"**/*\",\n",
    "    suffixes=[\".rs\"],\n",
    "    parser=LanguageParser(language=Language.RUST, parser_threshold=500)\n",
    ")\n",
    "documents = loader.load()\n",
    "len(documents)\n",
    "rust_splitter = RecursiveCharacterTextSplitter.from_language(language=Language.RUST, \n",
    "                                                               chunk_size=2000, \n",
    "                                                               chunk_overlap=200)\n",
    "texts = rust_splitter.split_documents(documents)\n",
    "len(texts)\n",
    "\n",
    "db = Chroma.from_documents(texts, OpenAIEmbeddings(disallowed_special=()))\n",
    "\n",
    "retriever = db.as_retriever(\n",
    "    search_type=\"mmr\", # Also test \"similarity\"\n",
    "    search_kwargs={\"k\": 8},\n",
    ")\n",
    "\n",
    "llm = ChatOpenAI(model_name=\"gpt-4\") \n",
    "memory = ConversationSummaryMemory(llm=llm,memory_key=\"chat_history\",return_messages=True)\n",
    "qa = ConversationalRetrievalChain.from_llm(llm, retriever=retriever, memory=memory)\n",
    "\n",
    "question = \"Generate multiversx contract code: Create a contract that holds the number 18 and provides a function to increase it.\"\n",
    "result = qa(question)\n",
    "result['answer']"
   ]
  },
  {
   "cell_type": "code",
   "execution_count": 34,
   "metadata": {},
   "outputs": [
    {
     "name": "stdout",
     "output_type": "stream",
     "text": [
      "You can use the `Adder` contract as a basis and modify it to suit your needs. Here's a sample `Multiversx` contract code that initializes a contract holding the number 18 and provides a function `increase` to increase it:\n",
      "\n",
      "```rust\n",
      "#![no_std]\n",
      "\n",
      "multiversx_sc::imports!();\n",
      "\n",
      "#[multiversx_sc::contract]\n",
      "pub trait MyContract {\n",
      "    #[view(getNumber)]\n",
      "    #[storage_mapper(\"number\")]\n",
      "    fn number(&self) -> SingleValueMapper<BigUint>;\n",
      "\n",
      "    #[init]\n",
      "    fn init(&self) {\n",
      "        let initial_value: BigUint = 18.into();\n",
      "        self.number().set(initial_value);\n",
      "    }\n",
      "\n",
      "    /// Increase the stored number by a desired amount.\n",
      "    #[endpoint]\n",
      "    fn increase(&self, value: BigUint) {\n",
      "        self.number().update(|number| *number += value);\n",
      "    }\n",
      "}\n",
      "```\n",
      "\n",
      "In this contract, the `init` function sets the initial value of the number to 18. The `increase` function, marked with the `#[endpoint]` attribute, is a contract method that anyone can call to increase the stored number by the input value. The `#[view(getNumber)]` attribute on `number` function makes it a view method, which can be used to read the current value of the number.\n"
     ]
    }
   ],
   "source": [
    "print(result['answer'])"
   ]
  },
  {
   "cell_type": "code",
   "execution_count": 25,
   "metadata": {},
   "outputs": [
    {
     "data": {
      "text/plain": [
       "105"
      ]
     },
     "execution_count": 25,
     "metadata": {},
     "output_type": "execute_result"
    }
   ],
   "source": [
    "rust_splitter = RecursiveCharacterTextSplitter.from_language(language=Language.RUST, \n",
    "                                                               chunk_size=2000, \n",
    "                                                               chunk_overlap=200)\n",
    "texts = rust_splitter.split_documents(documents)\n",
    "len(texts)"
   ]
  },
  {
   "cell_type": "code",
   "execution_count": 27,
   "metadata": {},
   "outputs": [],
   "source": [
    "\n",
    "db = Chroma.from_documents(texts, OpenAIEmbeddings(disallowed_special=()))\n",
    "\n",
    "retriever = db.as_retriever(\n",
    "    search_type=\"mmr\", # Also test \"similarity\"\n",
    "    search_kwargs={\"k\": 8},\n",
    ")"
   ]
  },
  {
   "cell_type": "code",
   "execution_count": 28,
   "metadata": {},
   "outputs": [],
   "source": [
    "from langchain.chat_models import ChatOpenAI\n",
    "from langchain.memory import ConversationSummaryMemory\n",
    "from langchain.chains import ConversationalRetrievalChain\n",
    "llm = ChatOpenAI(model_name=\"gpt-4\") \n",
    "memory = ConversationSummaryMemory(llm=llm,memory_key=\"chat_history\",return_messages=True)\n",
    "qa = ConversationalRetrievalChain.from_llm(llm, retriever=retriever, memory=memory)"
   ]
  },
  {
   "cell_type": "code",
   "execution_count": 30,
   "metadata": {},
   "outputs": [
    {
     "data": {
      "text/plain": [
       "'Based on the context provided, the appropriate code for the contract you requested would look like this:\\n\\n```Rust\\n#![no_std]\\n\\nmultiversx_sc::imports!();\\n\\n#[multiversx_sc::contract]\\npub trait MyContract {\\n    #[view(getNumber)]\\n    #[storage_mapper(\"number\")]\\n    fn number(&self) -> SingleValueMapper<BigUint>;\\n\\n    #[init]\\n    fn init(&self) {\\n        let initial_value = BigUint::from(18u32);\\n        self.number().set(initial_value);\\n    }\\n\\n    #[endpoint]\\n    fn increment(&self, value: BigUint) {\\n        self.number().update(|number| *number += value);\\n    }\\n}\\n```\\n\\nThis contract holds a single number (initially set to 18) in its storage, and provides a function `increment` that allows the number to be increased by a specified value. The current value of the number can be retrieved using the `getNumber` view function.'"
      ]
     },
     "execution_count": 30,
     "metadata": {},
     "output_type": "execute_result"
    }
   ],
   "source": [
    "question = \"Generate multiversx contract code: Create a contract that holds the number 18 and provides a function to increase it.\"\n",
    "result = qa(question)\n",
    "result['answer']"
   ]
  },
  {
   "cell_type": "code",
   "execution_count": 32,
   "metadata": {},
   "outputs": [
    {
     "name": "stdout",
     "output_type": "stream",
     "text": [
      "Based on the context provided, the appropriate code for the contract you requested would look like this:\n",
      "\n",
      "```Rust\n",
      "#![no_std]\n",
      "\n",
      "multiversx_sc::imports!();\n",
      "\n",
      "#[multiversx_sc::contract]\n",
      "pub trait MyContract {\n",
      "    #[view(getNumber)]\n",
      "    #[storage_mapper(\"number\")]\n",
      "    fn number(&self) -> SingleValueMapper<BigUint>;\n",
      "\n",
      "    #[init]\n",
      "    fn init(&self) {\n",
      "        let initial_value = BigUint::from(18u32);\n",
      "        self.number().set(initial_value);\n",
      "    }\n",
      "\n",
      "    #[endpoint]\n",
      "    fn increment(&self, value: BigUint) {\n",
      "        self.number().update(|number| *number += value);\n",
      "    }\n",
      "}\n",
      "```\n",
      "\n",
      "This contract holds a single number (initially set to 18) in its storage, and provides a function `increment` that allows the number to be increased by a specified value. The current value of the number can be retrieved using the `getNumber` view function.\n"
     ]
    }
   ],
   "source": [
    "print(result['answer'])"
   ]
  },
  {
   "cell_type": "code",
   "execution_count": null,
   "metadata": {},
   "outputs": [
    {
     "name": "stdout",
     "output_type": "stream",
     "text": [
      "Here's an example of a contract that has a storage variable initialized with the number 8 and provides an endpoint to increase it:\n",
      "\n",
      "```rust\n",
      "#![no_std]\n",
      "\n",
      "multiversx_sc::imports!();\n",
      "\n",
      "#[multiversx_sc::contract]\n",
      "pub trait IncrementContract {\n",
      "    #[init]\n",
      "    fn init(&self) {\n",
      "        self.counter().set(8u64);\n",
      "    }\n",
      "\n",
      "    #[endpoint]\n",
      "    fn increase(&self, value: u64) {\n",
      "        self.counter().update(|counter| *counter += value);\n",
      "    }\n",
      "\n",
      "    #[storage_mapper(\"counter\")]\n",
      "    fn counter(&self) -> SingleValueMapper<Self::Storage, u64>;\n",
      "}\n",
      "```\n",
      "\n",
      "In this contract, there is an `init` function that sets the `counter` to 8. Then, there's an `increase` endpoint function that adds a given value to the `counter`. The `counter` is stored persistently in the contract's storage.\n"
     ]
    }
   ],
   "source": [
    "print(result['answer'])"
   ]
  },
  {
   "cell_type": "code",
   "execution_count": null,
   "metadata": {},
   "outputs": [],
   "source": []
  }
 ],
 "metadata": {
  "kernelspec": {
   "display_name": "Python 3",
   "language": "python",
   "name": "python3"
  },
  "language_info": {
   "codemirror_mode": {
    "name": "ipython",
    "version": 3
   },
   "file_extension": ".py",
   "mimetype": "text/x-python",
   "name": "python",
   "nbconvert_exporter": "python",
   "pygments_lexer": "ipython3",
   "version": "3.10.8"
  },
  "orig_nbformat": 4
 },
 "nbformat": 4,
 "nbformat_minor": 2
}
