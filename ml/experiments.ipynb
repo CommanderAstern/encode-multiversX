{
 "cells": [
  {
   "cell_type": "code",
   "execution_count": 1,
   "metadata": {},
   "outputs": [
    {
     "name": "stdout",
     "output_type": "stream",
     "text": [
      "['walnut', 'allow', 'elegant', 'raise', 'jungle', 'display', 'door', 'tiger', 'vivid', 'toe', 'knock', 'uncle', 'talent', 'winner', 'math', 'alter', 'suffer', 'evoke', 'wave', 'smart', 'foster', 'civil', 'future', 'bus']\n"
     ]
    }
   ],
   "source": [
    "from multiversx_sdk_wallet import Mnemonic\n",
    "from multiversx_sdk_core import Address\n",
    "from multiversx_sdk_core import AddressFactory\n",
    "\n",
    "mnemonic = Mnemonic.generate()\n",
    "words = mnemonic.get_words()\n",
    "\n",
    "print(words)"
   ]
  },
  {
   "cell_type": "code",
   "execution_count": 11,
   "metadata": {},
   "outputs": [
    {
     "name": "stdout",
     "output_type": "stream",
     "text": [
      "19b9cf83c67a1c21ed313ac4d75e66df71d267a15dcf609f37ca5695ee86bb7f\n",
      "Public key (hex-encoded): 19b9cf83c67a1c21ed313ac4d75e66df71d267a15dcf609f37ca5695ee86bb7f\n"
     ]
    }
   ],
   "source": [
    "secret_key = mnemonic.derive_key(0)\n",
    "public_key = secret_key.generate_public_key()\n",
    "\n",
    "print(secret_key.hex())\n",
    "print(\"Public key (hex-encoded):\", secret_key.hex())"
   ]
  },
  {
   "cell_type": "code",
   "execution_count": 16,
   "metadata": {},
   "outputs": [],
   "source": [
    "factory = AddressFactory(\"erd\")\n",
    "address = factory.create_from_hex(\"19b9cf83c67a1c21ed313ac4d75e66df71d267a15dcf609f37ca5695ee86bb7f\")"
   ]
  },
  {
   "cell_type": "code",
   "execution_count": 9,
   "metadata": {},
   "outputs": [],
   "source": [
    "import os\n",
    "from supabase import create_client, Client\n",
    "from dotenv import load_dotenv\n",
    "\n",
    "load_dotenv()\n",
    "url: str = os.environ.get(\"SUPABASE_URL\")\n",
    "key: str = os.environ.get(\"SUPABASE_KEY\")\n",
    "supabase: Client = create_client(url, key)"
   ]
  },
  {
   "cell_type": "code",
   "execution_count": 11,
   "metadata": {},
   "outputs": [
    {
     "name": "stderr",
     "output_type": "stream",
     "text": [
      "2023-10-05 13:49:10,245:INFO - HTTP Request: POST https://dfdobpmlckedsihyzyov.supabase.co/rest/v1/chatbot_messages \"HTTP/1.1 201 Created\"\n"
     ]
    },
    {
     "name": "stdout",
     "output_type": "stream",
     "text": [
      "data=[{'message_id': 2, 'user_id': '123456789', 'chat_id': 'chat_001', 'text': 'Hello, how can I help you?', 'is_bot': True, 'timestamp': '2023-10-05T08:19:11.06578'}] count=None\n"
     ]
    }
   ],
   "source": [
    "result = supabase.table('chatbot_messages') \\\n",
    "  .insert({\n",
    "    \"user_id\": \"123456789\",\n",
    "    \"chat_id\": \"chat_001\",\n",
    "    \"text\": \"Hello, how can I help you?\",\n",
    "    \"is_bot\": True\n",
    "  }) \\\n",
    "  .execute()\n",
    "print(result)"
   ]
  }
 ],
 "metadata": {
  "kernelspec": {
   "display_name": "Python 3",
   "language": "python",
   "name": "python3"
  },
  "language_info": {
   "codemirror_mode": {
    "name": "ipython",
    "version": 3
   },
   "file_extension": ".py",
   "mimetype": "text/x-python",
   "name": "python",
   "nbconvert_exporter": "python",
   "pygments_lexer": "ipython3",
   "version": "3.10.8"
  },
  "orig_nbformat": 4
 },
 "nbformat": 4,
 "nbformat_minor": 2
}
